{
 "cells": [
  {
   "cell_type": "code",
   "execution_count": 3,
   "id": "15371ea5-996b-4258-a504-d1c4695d0b9e",
   "metadata": {},
   "outputs": [],
   "source": [
    "import time\n",
    "import numpy as np\n",
    "import matplotlib.pyplot as plt\n",
    "from sklearn.datasets import fetch_openml\n"
   ]
  },
  {
   "cell_type": "code",
   "execution_count": 4,
   "id": "8038528a-dd46-401f-ae15-245fe4721ef4",
   "metadata": {},
   "outputs": [],
   "source": [
    "mnist = fetch_openml('mnist_784', data_home='~/datasets/mnist')"
   ]
  },
  {
   "cell_type": "code",
   "execution_count": 5,
   "id": "77973487-cce6-4486-b4e3-ddbaa04c7fe0",
   "metadata": {},
   "outputs": [
    {
     "data": {
      "text/plain": [
       "(70000, 784)"
      ]
     },
     "execution_count": 5,
     "metadata": {},
     "output_type": "execute_result"
    }
   ],
   "source": [
    "# check dataset: 70,000 samples, 784 features\n",
    "mnist.data.shape"
   ]
  },
  {
   "cell_type": "code",
   "execution_count": 6,
   "id": "2d4e2565-33f1-422e-819f-6d2d79359be1",
   "metadata": {},
   "outputs": [
    {
     "data": {
      "text/plain": [
       "array(['5', '0', '4', ..., '4', '5', '6'], shape=(70000,), dtype=object)"
      ]
     },
     "execution_count": 6,
     "metadata": {},
     "output_type": "execute_result"
    }
   ],
   "source": [
    "Z = np.c_[mnist.target, mnist.data]\n",
    "Z[:,0]"
   ]
  },
  {
   "cell_type": "code",
   "execution_count": 7,
   "id": "6c92b4b7-ce12-42b0-86dc-9534d9e1f2ad",
   "metadata": {},
   "outputs": [],
   "source": [
    "# split data and labels into X and Y\n",
    "X = Z[:,1:]\n",
    "Y = Z[:,0]"
   ]
  },
  {
   "cell_type": "code",
   "execution_count": 8,
   "id": "6b82927a-26ba-4c47-a995-ac6c8976b6c8",
   "metadata": {},
   "outputs": [
    {
     "name": "stdout",
     "output_type": "stream",
     "text": [
      "4\n"
     ]
    },
    {
     "data": {
      "image/png": "[encoded data removed]",
      "text/plain": [
       "<Figure size 640x480 with 1 Axes>"
      ]
     },
     "metadata": {},
     "output_type": "display_data"
    }
   ],
   "source": [
    "idx = 1030\n",
    "X = np.asarray(X, dtype=int)\n",
    "print(Y[idx])\n",
    "img = plt.imshow(X[idx].reshape(28,28), cmap='gray_r')"
   ]
  },
  {
   "cell_type": "code",
   "execution_count": 9,
   "id": "06ba7272-ac65-446f-b4a7-dba6e4beb822",
   "metadata": {},
   "outputs": [
    {
     "data": {
      "text/plain": [
       "(50000, 784)"
      ]
     },
     "execution_count": 9,
     "metadata": {},
     "output_type": "execute_result"
    }
   ],
   "source": [
    "# training set\n",
    "X_train = X[0:50000]\n",
    "Y_train = Y[0:50000]\n",
    "\n",
    "# validation set\n",
    "X_val = X[50000:60000]\n",
    "Y_val = Y[50000:60000]\n",
    "\n",
    "# test set\n",
    "X_test = X[60000:70000]\n",
    "Y_test = Y[60000:70000]\n",
    "X_train.shape\n"
   ]
  },
  {
   "cell_type": "code",
   "execution_count": 11,
   "id": "0f9b073f-1636-4293-9a22-ab8fcc7abc9c",
   "metadata": {},
   "outputs": [],
   "source": [
    "from sklearn.neural_network import MLPClassifier\n",
    "from sklearn.neighbors import KNeighborsClassifier\n",
    "from sklearn.svm import SVC\n",
    "from sklearn.gaussian_process import GaussianProcessClassifier\n",
    "from sklearn.gaussian_process.kernels import RBF\n",
    "from sklearn.tree import DecisionTreeClassifier\n",
    "from sklearn.ensemble import RandomForestClassifier, AdaBoostClassifier\n",
    "from sklearn.naive_bayes import GaussianNB\n",
    "from sklearn.discriminant_analysis import QuadraticDiscriminantAnalysis\n"
   ]
  },
  {
   "cell_type": "code",
   "execution_count": 12,
   "id": "31ffcbd7-a1bf-4ebf-9aed-6a63c59c37e9",
   "metadata": {},
   "outputs": [],
   "source": [
    "classifier_names = [\n",
    "    \"Decision Tree\",\n",
    "    \"Random Forest\", \n",
    "    \"Neural Net (75, 75)\", \n",
    "    \"Neural Net (784, 784, 784)\", \n",
    "    \"Naive Bayes\"\n",
    "]"
   ]
  },
  {
   "cell_type": "code",
   "execution_count": 13,
   "id": "0d555924-763c-45ce-aab1-27c1e9924ebb",
   "metadata": {},
   "outputs": [],
   "source": [
    "classifiers = [\n",
    "    DecisionTreeClassifier(),\n",
    "    RandomForestClassifier(n_estimators=100),\n",
    "    MLPClassifier(hidden_layer_sizes=(75, 75)),\n",
    "    MLPClassifier(hidden_layer_sizes=(784, 784, 784)),\n",
    "    GaussianNB(),\n",
    "]\n"
   ]
  },
  {
   "cell_type": "code",
   "execution_count": 14,
   "id": "f3ea47c4-4678-4748-8d11-a65ab153591b",
   "metadata": {},
   "outputs": [
    {
     "name": "stdout",
     "output_type": "stream",
     "text": [
      "** Decision Tree\n",
      "\tTraining time:\t\t8.999\n",
      "\tPrediction time(train):\t0.013\n",
      "\tPrediction time(test):\t0.020\n",
      "\tScore Train: 1.000\tScore Test: 0.870\n",
      "** Random Forest\n",
      "\tTraining time:\t\t19.486\n",
      "\tPrediction time(train):\t0.177\n",
      "\tPrediction time(test):\t0.159\n",
      "\tScore Train: 1.000\tScore Test: 0.968\n",
      "** Neural Net (75, 75)\n",
      "\tTraining time:\t\t29.765\n",
      "\tPrediction time(train):\t0.025\n",
      "\tPrediction time(test):\t0.023\n",
      "\tScore Train: 0.992\tScore Test: 0.964\n",
      "** Neural Net (784, 784, 784)\n",
      "\tTraining time:\t\t127.562\n",
      "\tPrediction time(train):\t0.132\n",
      "\tPrediction time(test):\t0.130\n",
      "\tScore Train: 0.990\tScore Test: 0.972\n",
      "** Naive Bayes\n",
      "\tTraining time:\t\t0.322\n",
      "\tPrediction time(train):\t0.170\n",
      "\tPrediction time(test):\t0.165\n",
      "\tScore Train: 0.567\tScore Test: 0.554\n",
      "0.9664 22.689000844955444\n",
      "0.9708 32.871724128723145\n",
      "0.9612 18.381481170654297\n",
      "0.9668 22.430360078811646\n",
      "0.9746 26.354408979415894\n",
      "0.9289 47.72921109199524\n",
      "0.9555 34.72463393211365\n",
      "0.9536 41.2457389831543\n",
      "0.9593 18.604198217391968\n",
      "0.9664 18.389771938323975\n"
     ]
    }
   ],
   "source": [
    "for clf, clf_name in zip(classifiers, classifier_names):\n",
    "    print(f\"** {clf_name}\")\n",
    "    t0 = time.time()\n",
    "    clf.fit(X_train, Y_train)\n",
    "    t1 = time.time()\n",
    "    print(f\"\\tTraining time:\\t\\t{t1-t0:3.3f}\")\n",
    "    score_train = clf.score(X_train[0:10000], Y_train[0:10000])\n",
    "    t2 = time.time()\n",
    "    print(f\"\\tPrediction time(train):\\t{t2-t1:3.3f}\")\n",
    "    score_test = clf.score(X_test, Y_test)\n",
    "    t3 = time.time()\n",
    "    print(f\"\\tPrediction time(test):\\t{t3-t2:3.3f}\")\n",
    "    print(f\"\\tScore Train: {score_train:.3f}\\tScore Test: {score_test:.3f}\")\n",
    "# default alpha=0.0001\n",
    "for a in [0.0001, 0.001, 0.01, 0.1, 1]:\n",
    "    mlp = MLPClassifier(hidden_layer_sizes=(75, 75), alpha=a)\n",
    "    t0 = time.time()\n",
    "    mlp.fit(X_train, Y_train)\n",
    "    t1 = time.time()\n",
    "    print(mlp.score(X_test, Y_test), t1 - t0)\n",
    "for hl in [(25), (50), (50, 50), (100), (100, 100)]:\n",
    "    mlp = MLPClassifier(hidden_layer_sizes=hl)\n",
    "    t0 = time.time()\n",
    "    mlp.fit(X_train, Y_train)\n",
    "    t1 = time.time()\n",
    "    print(mlp.score(X_test, Y_test), t1 - t0)"
   ]
  },
  {
   "cell_type": "code",
   "execution_count": null,
   "id": "a657aac2-90c6-4120-8ee6-b3fc489c0124",
   "metadata": {},
   "outputs": [],
   "source": []
  }
 ],
 "metadata": {
  "kernelspec": {
   "display_name": "Python 3 (ipykernel)",
   "language": "python",
   "name": "python3"
  },
  "language_info": {
   "codemirror_mode": {
    "name": "ipython",
    "version": 3
   },
   "file_extension": ".py",
   "mimetype": "text/x-python",
   "name": "python",
   "nbconvert_exporter": "python",
   "pygments_lexer": "ipython3",
   "version": "3.10.16"
  }
 },
 "nbformat": 4,
 "nbformat_minor": 5
}
