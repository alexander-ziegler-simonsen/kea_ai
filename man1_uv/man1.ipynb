{
 "cells": [
  {
   "cell_type": "markdown",
   "id": "d1205d6f-0962-4be4-8ca9-1f5147398a4a",
   "metadata": {},
   "source": [
    "# overskrift"
   ]
  },
  {
   "cell_type": "markdown",
   "id": "677ac6bb-21a5-4a0b-bda0-37aeb3e6476d",
   "metadata": {},
   "source": [
    "jeg prøver at opstille en model, som fremviser en sammenhæng mellem INPUT og mpg (y).\n",
    "\n",
    "1. x (weight, model year, acceleration) og y (mpg)\n",
    "2. x (displacement, weight, acceleration) og y (mpg)\n",
    "3. x (displacement, weight, acceleration, cylinders, horsepower) og y (mpg)"
   ]
  },
  {
   "cell_type": "markdown",
   "id": "1bc3613e-953e-42b1-918d-8b003c2b7917",
   "metadata": {},
   "source": [
    "## overvejelser\n",
    "\n",
    "\"model year\" giver ikke et ret relevant værdi, så det kan vi droppe.\n",
    "- derfor er #1 ude\n",
    "\n",
    "\"car name\" har alt for mange unikke værdier, til det giver mening at arbejde med den.\n",
    "\n",
    "\"origin\" er hvor bilen er fra, hvilke ikke spiller nogle rolle i denne "
   ]
  },
  {
   "cell_type": "code",
   "execution_count": 1,
   "id": "8593cdf7-c05a-4582-a1d5-edba0d038288",
   "metadata": {},
   "outputs": [],
   "source": [
    "import tensorflow as tf\n",
    "import pandas as pd"
   ]
  },
  {
   "cell_type": "code",
   "execution_count": 2,
   "id": "effe13a6-5669-4540-baa0-908d3e538150",
   "metadata": {},
   "outputs": [
    {
     "data": {
      "text/html": [
       "<div>\n",
       "<style scoped>\n",
       "    .dataframe tbody tr th:only-of-type {\n",
       "        vertical-align: middle;\n",
       "    }\n",
       "\n",
       "    .dataframe tbody tr th {\n",
       "        vertical-align: top;\n",
       "    }\n",
       "\n",
       "    .dataframe thead th {\n",
       "        text-align: right;\n",
       "    }\n",
       "</style>\n",
       "<table border=\"1\" class=\"dataframe\">\n",
       "  <thead>\n",
       "    <tr style=\"text-align: right;\">\n",
       "      <th></th>\n",
       "      <th>mpg</th>\n",
       "      <th>cylinders</th>\n",
       "      <th>displacement</th>\n",
       "      <th>horsepower</th>\n",
       "      <th>weight</th>\n",
       "      <th>acceleration</th>\n",
       "      <th>model year</th>\n",
       "      <th>origin</th>\n",
       "      <th>car name</th>\n",
       "    </tr>\n",
       "  </thead>\n",
       "  <tbody>\n",
       "    <tr>\n",
       "      <th>0</th>\n",
       "      <td>18.0</td>\n",
       "      <td>8</td>\n",
       "      <td>307.0</td>\n",
       "      <td>130</td>\n",
       "      <td>3504</td>\n",
       "      <td>12.0</td>\n",
       "      <td>70</td>\n",
       "      <td>1</td>\n",
       "      <td>chevrolet chevelle malibu</td>\n",
       "    </tr>\n",
       "    <tr>\n",
       "      <th>1</th>\n",
       "      <td>15.0</td>\n",
       "      <td>8</td>\n",
       "      <td>350.0</td>\n",
       "      <td>165</td>\n",
       "      <td>3693</td>\n",
       "      <td>11.5</td>\n",
       "      <td>70</td>\n",
       "      <td>1</td>\n",
       "      <td>buick skylark 320</td>\n",
       "    </tr>\n",
       "    <tr>\n",
       "      <th>2</th>\n",
       "      <td>18.0</td>\n",
       "      <td>8</td>\n",
       "      <td>318.0</td>\n",
       "      <td>150</td>\n",
       "      <td>3436</td>\n",
       "      <td>11.0</td>\n",
       "      <td>70</td>\n",
       "      <td>1</td>\n",
       "      <td>plymouth satellite</td>\n",
       "    </tr>\n",
       "    <tr>\n",
       "      <th>3</th>\n",
       "      <td>16.0</td>\n",
       "      <td>8</td>\n",
       "      <td>304.0</td>\n",
       "      <td>150</td>\n",
       "      <td>3433</td>\n",
       "      <td>12.0</td>\n",
       "      <td>70</td>\n",
       "      <td>1</td>\n",
       "      <td>amc rebel sst</td>\n",
       "    </tr>\n",
       "    <tr>\n",
       "      <th>4</th>\n",
       "      <td>17.0</td>\n",
       "      <td>8</td>\n",
       "      <td>302.0</td>\n",
       "      <td>140</td>\n",
       "      <td>3449</td>\n",
       "      <td>10.5</td>\n",
       "      <td>70</td>\n",
       "      <td>1</td>\n",
       "      <td>ford torino</td>\n",
       "    </tr>\n",
       "  </tbody>\n",
       "</table>\n",
       "</div>"
      ],
      "text/plain": [
       "    mpg  cylinders  displacement horsepower  weight  acceleration  model year  \\\n",
       "0  18.0          8         307.0        130    3504          12.0          70   \n",
       "1  15.0          8         350.0        165    3693          11.5          70   \n",
       "2  18.0          8         318.0        150    3436          11.0          70   \n",
       "3  16.0          8         304.0        150    3433          12.0          70   \n",
       "4  17.0          8         302.0        140    3449          10.5          70   \n",
       "\n",
       "   origin                   car name  \n",
       "0       1  chevrolet chevelle malibu  \n",
       "1       1          buick skylark 320  \n",
       "2       1         plymouth satellite  \n",
       "3       1              amc rebel sst  \n",
       "4       1                ford torino  "
      ]
     },
     "execution_count": 2,
     "metadata": {},
     "output_type": "execute_result"
    }
   ],
   "source": [
    "df = pd.read_csv(\"cars.csv\")\n",
    "df.head()"
   ]
  },
  {
   "cell_type": "markdown",
   "id": "7389b651-80ba-403c-bacf-5b6ae4a2e282",
   "metadata": {},
   "source": [
    "we need to clearn up the data \n",
    "- (horsepower have 2 missing values)\n",
    "- vi beholder kun det data vi har tænker om at bruge (så fjern model year, origin, car name)\n"
   ]
  },
  {
   "cell_type": "code",
   "execution_count": 3,
   "id": "a73d468b-c514-404f-b5bc-e33845462218",
   "metadata": {},
   "outputs": [
    {
     "data": {
      "text/html": [
       "<div>\n",
       "<style scoped>\n",
       "    .dataframe tbody tr th:only-of-type {\n",
       "        vertical-align: middle;\n",
       "    }\n",
       "\n",
       "    .dataframe tbody tr th {\n",
       "        vertical-align: top;\n",
       "    }\n",
       "\n",
       "    .dataframe thead th {\n",
       "        text-align: right;\n",
       "    }\n",
       "</style>\n",
       "<table border=\"1\" class=\"dataframe\">\n",
       "  <thead>\n",
       "    <tr style=\"text-align: right;\">\n",
       "      <th></th>\n",
       "      <th>mpg</th>\n",
       "      <th>cylinders</th>\n",
       "      <th>displacement</th>\n",
       "      <th>horsepower</th>\n",
       "      <th>weight</th>\n",
       "      <th>acceleration</th>\n",
       "    </tr>\n",
       "  </thead>\n",
       "  <tbody>\n",
       "    <tr>\n",
       "      <th>0</th>\n",
       "      <td>18.0</td>\n",
       "      <td>8</td>\n",
       "      <td>307.0</td>\n",
       "      <td>130</td>\n",
       "      <td>3504</td>\n",
       "      <td>12.0</td>\n",
       "    </tr>\n",
       "    <tr>\n",
       "      <th>1</th>\n",
       "      <td>15.0</td>\n",
       "      <td>8</td>\n",
       "      <td>350.0</td>\n",
       "      <td>165</td>\n",
       "      <td>3693</td>\n",
       "      <td>11.5</td>\n",
       "    </tr>\n",
       "    <tr>\n",
       "      <th>2</th>\n",
       "      <td>18.0</td>\n",
       "      <td>8</td>\n",
       "      <td>318.0</td>\n",
       "      <td>150</td>\n",
       "      <td>3436</td>\n",
       "      <td>11.0</td>\n",
       "    </tr>\n",
       "    <tr>\n",
       "      <th>3</th>\n",
       "      <td>16.0</td>\n",
       "      <td>8</td>\n",
       "      <td>304.0</td>\n",
       "      <td>150</td>\n",
       "      <td>3433</td>\n",
       "      <td>12.0</td>\n",
       "    </tr>\n",
       "    <tr>\n",
       "      <th>4</th>\n",
       "      <td>17.0</td>\n",
       "      <td>8</td>\n",
       "      <td>302.0</td>\n",
       "      <td>140</td>\n",
       "      <td>3449</td>\n",
       "      <td>10.5</td>\n",
       "    </tr>\n",
       "  </tbody>\n",
       "</table>\n",
       "</div>"
      ],
      "text/plain": [
       "    mpg  cylinders  displacement horsepower  weight  acceleration\n",
       "0  18.0          8         307.0        130    3504          12.0\n",
       "1  15.0          8         350.0        165    3693          11.5\n",
       "2  18.0          8         318.0        150    3436          11.0\n",
       "3  16.0          8         304.0        150    3433          12.0\n",
       "4  17.0          8         302.0        140    3449          10.5"
      ]
     },
     "execution_count": 3,
     "metadata": {},
     "output_type": "execute_result"
    }
   ],
   "source": [
    "cols_to_drop = [\"origin\", \"car name\", \"model year\"]\n",
    "df = df.drop(columns=cols_to_drop)\n",
    "df.head()"
   ]
  },
  {
   "cell_type": "code",
   "execution_count": 4,
   "id": "39438bc6-7cf1-42f4-806f-8ace5cda25b9",
   "metadata": {},
   "outputs": [],
   "source": [
    "# TODO - gør noget ved de 2 horse power værdier"
   ]
  },
  {
   "cell_type": "markdown",
   "id": "3f69a028-5f03-4db2-94a4-7bf8042e1fa2",
   "metadata": {},
   "source": [
    "# mål / spørgsmål"
   ]
  },
  {
   "cell_type": "markdown",
   "id": "bc1dc290-8064-4381-8938-6fc04e22bef5",
   "metadata": {},
   "source": [
    "1. kan man forudsige mpg, ud fra (displacement, weight, acceleration)\n",
    "2. kan man forudsige mpg, ud fra (displacement, cylinders, displacement, weight, acceleration)"
   ]
  },
  {
   "cell_type": "code",
   "execution_count": 5,
   "id": "92a461eb-273c-4a90-9bfc-d0ddd2c0bf99",
   "metadata": {},
   "outputs": [],
   "source": [
    "# opdel vores data i 3 grupper - train, val, test\n",
    "\n",
    "#(ds_test, ds_val, ds_train), ds_info = tfds.load(\n",
    "#    'mnist',\n",
    "#    split=['test', 'train[0%:17%]', 'train[17%:]'],\n",
    "#    shuffle_files=True,\n",
    "#    as_supervised=True,\n",
    " #   with_info=True,\n",
    "#)\n",
    "#\n",
    "\n",
    "# def dataHandler (ds):\n",
    "    "
   ]
  },
  {
   "cell_type": "code",
   "execution_count": 6,
   "id": "e91aeedd-fc9c-4af7-87e9-d17f7dc9dea1",
   "metadata": {},
   "outputs": [],
   "source": [
    "#"
   ]
  },
  {
   "cell_type": "code",
   "execution_count": 7,
   "id": "ce31d9c1-864c-479c-a64d-a30163ff74d7",
   "metadata": {},
   "outputs": [
    {
     "name": "stdout",
     "output_type": "stream",
     "text": [
      "full count: 398\n",
      "------\n",
      "train count 278\n",
      "val count 60\n",
      "test count 60\n",
      "check full sum 398\n"
     ]
    }
   ],
   "source": [
    "m = len(df)\n",
    "split_train = int(m * 0.7)\n",
    "split_val = int(m * 0.15) + 1 # vi mistet 2\n",
    "split_test = int(m * 0.15) + 1 # vi mistet 2 \n",
    "\n",
    "print(\"full count:\", m)\n",
    "print(\"------\")\n",
    "print(\"train count\", split_train)\n",
    "print(\"val count\", split_val)\n",
    "print(\"test count\", split_test)\n",
    "\n",
    "print(\"check full sum\", split_train + split_val + split_test)\n",
    "\n",
    "# TODO - du fjerner 2 rows senere grundet cleanup, så kan være du skal omskrive denne celle.\n",
    "# TODO - du skulle virkelige lave en form for blanding i starten af dette, så datasættet bliver lidt anderledes (med til bevise din model virker)\n"
   ]
  },
  {
   "cell_type": "markdown",
   "id": "00c47983-487f-4265-b7f8-eec4c8f742f6",
   "metadata": {},
   "source": [
    "som vi kan se er vores data sæt meget lille, så vi kan komme ud fra nogle problemer.\n",
    "vi skal holde øje med at værdierne "
   ]
  }
 ],
 "metadata": {
  "kernelspec": {
   "display_name": "Python 3 (ipykernel)",
   "language": "python",
   "name": "python3"
  },
  "language_info": {
   "codemirror_mode": {
    "name": "ipython",
    "version": 3
   },
   "file_extension": ".py",
   "mimetype": "text/x-python",
   "name": "python",
   "nbconvert_exporter": "python",
   "pygments_lexer": "ipython3",
   "version": "3.10.16"
  }
 },
 "nbformat": 4,
 "nbformat_minor": 5
}
