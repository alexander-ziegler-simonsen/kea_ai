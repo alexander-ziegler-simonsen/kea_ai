{
 "cells": [
  {
   "cell_type": "code",
   "execution_count": 2,
   "id": "f3df1306-fa9e-4ece-ae71-0f8e0d9c1646",
   "metadata": {},
   "outputs": [],
   "source": [
    "import math\n",
    "import random\n",
    "import numpy as np"
   ]
  },
  {
   "cell_type": "code",
   "execution_count": 3,
   "id": "8dbee518-3a54-4a4b-9080-43b51069f2ff",
   "metadata": {},
   "outputs": [
    {
     "data": {
      "text/plain": [
       "0.8444837340438173"
      ]
     },
     "execution_count": 3,
     "metadata": {},
     "output_type": "execute_result"
    }
   ],
   "source": [
    "random.random()"
   ]
  },
  {
   "cell_type": "code",
   "execution_count": 4,
   "id": "343ebe53-efa2-4e74-a937-3d5b8621af79",
   "metadata": {},
   "outputs": [],
   "source": [
    "X = [ 1.8, 1.7, 1.6, 1.6, 1.7, 1.55, 1.91, 1.8, 1.6, 1.77, 1.78, 1.79 ]"
   ]
  },
  {
   "cell_type": "code",
   "execution_count": 5,
   "id": "47bf2844-6a08-4d0d-95f9-66ccfb5b8504",
   "metadata": {},
   "outputs": [],
   "source": [
    "X = np.array(X)"
   ]
  },
  {
   "cell_type": "code",
   "execution_count": 6,
   "id": "f9eab249-1778-456c-bbcd-29ceb6cb85d7",
   "metadata": {},
   "outputs": [
    {
     "name": "stdout",
     "output_type": "stream",
     "text": [
      "CPU times: user 65 μs, sys: 4 μs, total: 69 μs\n",
      "Wall time: 72.2 μs\n"
     ]
    },
    {
     "data": {
      "text/plain": [
       "np.float64(1.7166666666666668)"
      ]
     },
     "execution_count": 6,
     "metadata": {},
     "output_type": "execute_result"
    }
   ],
   "source": [
    "%%time\n",
    "np.mean(X)"
   ]
  },
  {
   "cell_type": "code",
   "execution_count": 7,
   "id": "d4ed802e-8e0f-4dd7-b9ef-4e5bd44dee3c",
   "metadata": {},
   "outputs": [
    {
     "name": "stdout",
     "output_type": "stream",
     "text": [
      "CPU times: user 5.45 ms, sys: 2.05 ms, total: 7.5 ms\n",
      "Wall time: 7.22 ms\n"
     ]
    },
    {
     "data": {
      "text/plain": [
       "np.float64(1.7349999999999999)"
      ]
     },
     "execution_count": 7,
     "metadata": {},
     "output_type": "execute_result"
    }
   ],
   "source": [
    "%%time\n",
    "np.median(X)"
   ]
  },
  {
   "cell_type": "code",
   "execution_count": 8,
   "id": "0e3a35ba-b0c6-42fc-80bf-7509ccbf32c8",
   "metadata": {},
   "outputs": [],
   "source": [
    "import pandas as pd"
   ]
  },
  {
   "cell_type": "code",
   "execution_count": 9,
   "id": "855e435b-11c9-4582-bd33-caa3076a94ba",
   "metadata": {},
   "outputs": [
    {
     "data": {
      "text/html": [
       "<div>\n",
       "<style scoped>\n",
       "    .dataframe tbody tr th:only-of-type {\n",
       "        vertical-align: middle;\n",
       "    }\n",
       "\n",
       "    .dataframe tbody tr th {\n",
       "        vertical-align: top;\n",
       "    }\n",
       "\n",
       "    .dataframe thead th {\n",
       "        text-align: right;\n",
       "    }\n",
       "</style>\n",
       "<table border=\"1\" class=\"dataframe\">\n",
       "  <thead>\n",
       "    <tr style=\"text-align: right;\">\n",
       "      <th></th>\n",
       "      <th>Income</th>\n",
       "      <th>Wealth</th>\n",
       "      <th>Age</th>\n",
       "      <th>Education</th>\n",
       "      <th>Employment_Status</th>\n",
       "    </tr>\n",
       "  </thead>\n",
       "  <tbody>\n",
       "    <tr>\n",
       "      <th>0</th>\n",
       "      <td>69102.58</td>\n",
       "      <td>640831.61</td>\n",
       "      <td>47</td>\n",
       "      <td>High School</td>\n",
       "      <td>Employed</td>\n",
       "    </tr>\n",
       "    <tr>\n",
       "      <th>1</th>\n",
       "      <td>75282.09</td>\n",
       "      <td>300605.21</td>\n",
       "      <td>37</td>\n",
       "      <td>Master's</td>\n",
       "      <td>Unemployed</td>\n",
       "    </tr>\n",
       "    <tr>\n",
       "      <th>2</th>\n",
       "      <td>36924.99</td>\n",
       "      <td>281367.33</td>\n",
       "      <td>49</td>\n",
       "      <td>Some College</td>\n",
       "      <td>Employed</td>\n",
       "    </tr>\n",
       "    <tr>\n",
       "      <th>3</th>\n",
       "      <td>95439.82</td>\n",
       "      <td>845197.71</td>\n",
       "      <td>62</td>\n",
       "      <td>Bachelor's</td>\n",
       "      <td>Employed</td>\n",
       "    </tr>\n",
       "    <tr>\n",
       "      <th>4</th>\n",
       "      <td>47825.32</td>\n",
       "      <td>354803.81</td>\n",
       "      <td>36</td>\n",
       "      <td>Some College</td>\n",
       "      <td>Employed</td>\n",
       "    </tr>\n",
       "  </tbody>\n",
       "</table>\n",
       "</div>"
      ],
      "text/plain": [
       "     Income     Wealth  Age     Education Employment_Status\n",
       "0  69102.58  640831.61   47   High School          Employed\n",
       "1  75282.09  300605.21   37      Master's        Unemployed\n",
       "2  36924.99  281367.33   49  Some College          Employed\n",
       "3  95439.82  845197.71   62    Bachelor's          Employed\n",
       "4  47825.32  354803.81   36  Some College          Employed"
      ]
     },
     "execution_count": 9,
     "metadata": {},
     "output_type": "execute_result"
    }
   ],
   "source": [
    "df = pd.read_csv('wealth_income_dataset.csv')\n",
    "df.head()"
   ]
  },
  {
   "cell_type": "code",
   "execution_count": 17,
   "id": "5fe76014-1f26-45ab-8214-f28fe31a073b",
   "metadata": {},
   "outputs": [],
   "source": [
    "# "
   ]
  },
  {
   "cell_type": "code",
   "execution_count": 23,
   "id": "9bd329f7-d6b9-4ed4-8644-8948a68be310",
   "metadata": {},
   "outputs": [
    {
     "data": {
      "text/plain": [
       "np.float64(55124.55072380999)"
      ]
     },
     "execution_count": 23,
     "metadata": {},
     "output_type": "execute_result"
    }
   ],
   "source": [
    "df[\"Income\"].mean()"
   ]
  },
  {
   "cell_type": "code",
   "execution_count": 24,
   "id": "bd68cded-6a7a-4bcd-b374-2708f1902fd9",
   "metadata": {},
   "outputs": [
    {
     "data": {
      "text/plain": [
       "np.float64(343785.0316191401)"
      ]
     },
     "execution_count": 24,
     "metadata": {},
     "output_type": "execute_result"
    }
   ],
   "source": [
    "df[\"Wealth\"].mean()"
   ]
  },
  {
   "cell_type": "code",
   "execution_count": 25,
   "id": "7b1fe625-0b79-4066-b41a-e7ee08af7689",
   "metadata": {},
   "outputs": [
    {
     "data": {
      "text/plain": [
       "np.float64(46074.369999999995)"
      ]
     },
     "execution_count": 25,
     "metadata": {},
     "output_type": "execute_result"
    }
   ],
   "source": [
    "df[\"Income\"].median()"
   ]
  },
  {
   "cell_type": "code",
   "execution_count": 26,
   "id": "7b4e697b-b0a0-429e-9e57-e50e46beae10",
   "metadata": {},
   "outputs": [
    {
     "data": {
      "text/plain": [
       "np.float64(251173.265)"
      ]
     },
     "execution_count": 26,
     "metadata": {},
     "output_type": "execute_result"
    }
   ],
   "source": [
    "df[\"Wealth\"].median()"
   ]
  },
  {
   "cell_type": "code",
   "execution_count": null,
   "id": "e499ca20-9a48-42be-b780-e7eb3f7c5dc7",
   "metadata": {},
   "outputs": [],
   "source": []
  }
 ],
 "metadata": {
  "kernelspec": {
   "display_name": "Python 3 (ipykernel)",
   "language": "python",
   "name": "python3"
  },
  "language_info": {
   "codemirror_mode": {
    "name": "ipython",
    "version": 3
   },
   "file_extension": ".py",
   "mimetype": "text/x-python",
   "name": "python",
   "nbconvert_exporter": "python",
   "pygments_lexer": "ipython3",
   "version": "3.10.16"
  }
 },
 "nbformat": 4,
 "nbformat_minor": 5
}
